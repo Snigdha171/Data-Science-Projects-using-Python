{
 "cells": [
  {
   "cell_type": "markdown",
   "metadata": {},
   "source": [
    "# Data Analysis of imdb movie dataset using Python"
   ]
  },
  {
   "cell_type": "code",
   "execution_count": 82,
   "metadata": {},
   "outputs": [],
   "source": [
    "# Importing the required libraries\n",
    "import pandas as pd\n",
    "import numpy as np\n",
    "import os"
   ]
  },
  {
   "cell_type": "code",
   "execution_count": 68,
   "metadata": {},
   "outputs": [],
   "source": [
    "#Change directory\n",
    "os.chdir(\"F://Snigdha//PythonDataAnalysis//DataAnalysis2_govData//imdbDataset\")"
   ]
  },
  {
   "cell_type": "markdown",
   "metadata": {},
   "source": [
    "# Data Fetching"
   ]
  },
  {
   "cell_type": "code",
   "execution_count": 69,
   "metadata": {},
   "outputs": [],
   "source": [
    "#Reading file from CSV\n",
    "title_basic = pd.read_csv(\"title.basics.tsv\", sep = '\\t',low_memory=False)\n",
    "title_akas = pd.read_csv(\"title.akas.tsv\", sep = '\\t',low_memory=False)\n",
    "title_crew = pd.read_csv(\"title.crew.tsv\", sep = '\\t',low_memory=False)\n",
    "name_basics = pd.read_csv(\"name.basics.tsv\", sep = '\\t',low_memory=False)\n",
    "title_ratings = pd.read_csv(\"title.ratings.tsv\", sep = '\\t',low_memory=False)"
   ]
  },
  {
   "cell_type": "code",
   "execution_count": 70,
   "metadata": {},
   "outputs": [
    {
     "data": {
      "text/html": [
       "<div>\n",
       "<style scoped>\n",
       "    .dataframe tbody tr th:only-of-type {\n",
       "        vertical-align: middle;\n",
       "    }\n",
       "\n",
       "    .dataframe tbody tr th {\n",
       "        vertical-align: top;\n",
       "    }\n",
       "\n",
       "    .dataframe thead th {\n",
       "        text-align: right;\n",
       "    }\n",
       "</style>\n",
       "<table border=\"1\" class=\"dataframe\">\n",
       "  <thead>\n",
       "    <tr style=\"text-align: right;\">\n",
       "      <th></th>\n",
       "      <th>tconst</th>\n",
       "      <th>titleType</th>\n",
       "      <th>primaryTitle</th>\n",
       "      <th>originalTitle</th>\n",
       "      <th>isAdult</th>\n",
       "      <th>startYear</th>\n",
       "      <th>endYear</th>\n",
       "      <th>runtimeMinutes</th>\n",
       "      <th>genres</th>\n",
       "    </tr>\n",
       "  </thead>\n",
       "  <tbody>\n",
       "    <tr>\n",
       "      <th>0</th>\n",
       "      <td>tt0000001</td>\n",
       "      <td>short</td>\n",
       "      <td>Carmencita</td>\n",
       "      <td>Carmencita</td>\n",
       "      <td>0</td>\n",
       "      <td>1894</td>\n",
       "      <td>\\N</td>\n",
       "      <td>1</td>\n",
       "      <td>Documentary,Short</td>\n",
       "    </tr>\n",
       "    <tr>\n",
       "      <th>1</th>\n",
       "      <td>tt0000002</td>\n",
       "      <td>short</td>\n",
       "      <td>Le clown et ses chiens</td>\n",
       "      <td>Le clown et ses chiens</td>\n",
       "      <td>0</td>\n",
       "      <td>1892</td>\n",
       "      <td>\\N</td>\n",
       "      <td>5</td>\n",
       "      <td>Animation,Short</td>\n",
       "    </tr>\n",
       "    <tr>\n",
       "      <th>2</th>\n",
       "      <td>tt0000003</td>\n",
       "      <td>short</td>\n",
       "      <td>Pauvre Pierrot</td>\n",
       "      <td>Pauvre Pierrot</td>\n",
       "      <td>0</td>\n",
       "      <td>1892</td>\n",
       "      <td>\\N</td>\n",
       "      <td>4</td>\n",
       "      <td>Animation,Comedy,Romance</td>\n",
       "    </tr>\n",
       "    <tr>\n",
       "      <th>3</th>\n",
       "      <td>tt0000004</td>\n",
       "      <td>short</td>\n",
       "      <td>Un bon bock</td>\n",
       "      <td>Un bon bock</td>\n",
       "      <td>0</td>\n",
       "      <td>1892</td>\n",
       "      <td>\\N</td>\n",
       "      <td>\\N</td>\n",
       "      <td>Animation,Short</td>\n",
       "    </tr>\n",
       "    <tr>\n",
       "      <th>4</th>\n",
       "      <td>tt0000005</td>\n",
       "      <td>short</td>\n",
       "      <td>Blacksmith Scene</td>\n",
       "      <td>Blacksmith Scene</td>\n",
       "      <td>0</td>\n",
       "      <td>1893</td>\n",
       "      <td>\\N</td>\n",
       "      <td>1</td>\n",
       "      <td>Comedy,Short</td>\n",
       "    </tr>\n",
       "  </tbody>\n",
       "</table>\n",
       "</div>"
      ],
      "text/plain": [
       "      tconst titleType            primaryTitle           originalTitle  \\\n",
       "0  tt0000001     short              Carmencita              Carmencita   \n",
       "1  tt0000002     short  Le clown et ses chiens  Le clown et ses chiens   \n",
       "2  tt0000003     short          Pauvre Pierrot          Pauvre Pierrot   \n",
       "3  tt0000004     short             Un bon bock             Un bon bock   \n",
       "4  tt0000005     short        Blacksmith Scene        Blacksmith Scene   \n",
       "\n",
       "   isAdult startYear endYear runtimeMinutes                    genres  \n",
       "0        0      1894      \\N              1         Documentary,Short  \n",
       "1        0      1892      \\N              5           Animation,Short  \n",
       "2        0      1892      \\N              4  Animation,Comedy,Romance  \n",
       "3        0      1892      \\N             \\N           Animation,Short  \n",
       "4        0      1893      \\N              1              Comedy,Short  "
      ]
     },
     "execution_count": 70,
     "metadata": {},
     "output_type": "execute_result"
    }
   ],
   "source": [
    "title_basic.head(5)"
   ]
  },
  {
   "cell_type": "markdown",
   "metadata": {},
   "source": [
    "# Data Preparation"
   ]
  },
  {
   "cell_type": "code",
   "execution_count": 71,
   "metadata": {},
   "outputs": [],
   "source": [
    "#Filtering title_akas with only Indian movies\n",
    "title_akas_IN = title_akas[title_akas.region == 'IN']\n",
    "\n",
    "#Filtering title_basic for movies made from 2010 to 2017\n",
    "title_basic_2011To2018 = title_basic[title_basic.startYear.isin(['2011','2012','2013','2014','2015','2016','2017','2018'])]\n",
    "movie_basic_2011To2018 = title_basic_2011To2018[title_basic_2011To2018.titleType == 'movie']"
   ]
  },
  {
   "cell_type": "code",
   "execution_count": 72,
   "metadata": {},
   "outputs": [],
   "source": [
    "#Renaming tconst of title_basic_2011To2018, title_crew,title_ratings to titleid\n",
    "pd.options.mode.chained_assignment = None\n",
    "movie_basic_2011To2018.rename(columns = {'tconst':'titleId'},inplace = True)\n",
    "title_crew.rename(columns = {'tconst':'titleId'},inplace = True)\n",
    "title_ratings.rename(columns = {'tconst':'titleId'},inplace = True)"
   ]
  },
  {
   "cell_type": "code",
   "execution_count": 73,
   "metadata": {},
   "outputs": [],
   "source": [
    "#Joining title_basic_2011To2018 and title_akas_IN\n",
    "title_akas_basic = pd.merge(title_akas_IN,movie_basic_2011To2018, on = 'titleId', how = 'inner')"
   ]
  },
  {
   "cell_type": "code",
   "execution_count": 74,
   "metadata": {},
   "outputs": [],
   "source": [
    "title_akas_basic.head(5)\n",
    "#Selecting on the required columns\n",
    "title_akas_basic_temp = title_akas_basic[['titleId','primaryTitle','language','startYear','runtimeMinutes','genres']]\n",
    "title_akas_basic_final = title_akas_basic_temp.drop_duplicates()"
   ]
  },
  {
   "cell_type": "code",
   "execution_count": 66,
   "metadata": {},
   "outputs": [],
   "source": [
    "#title_akas_basic_final.to_csv('title_akas_basic_final.csv', sep=',')\n"
   ]
  },
  {
   "cell_type": "code",
   "execution_count": 75,
   "metadata": {},
   "outputs": [],
   "source": [
    "#Joining title_akas_basic_final and title_crew\n",
    "title_akas_basic_crew_temp = pd.merge(title_akas_basic_final,title_crew, on = 'titleId', how = 'left')\n",
    "title_akas_basic_crew = title_akas_basic_crew_temp.drop_duplicates()\n",
    "\n",
    "name_basics.rename(columns = {'nconst':'directors'},inplace = True)\n",
    "#Joining title_akas_basic_crew and name_basics\n",
    "title_akas_basic_crew_name_temp = pd.merge(title_akas_basic_crew,name_basics, on = 'directors', how = 'left')\n",
    "title_akas_basic_crew_name = title_akas_basic_crew_name_temp.drop_duplicates()"
   ]
  },
  {
   "cell_type": "code",
   "execution_count": 78,
   "metadata": {},
   "outputs": [],
   "source": [
    "#title_akas_basic_crew_name.head(5)\n",
    "title_akas_basic_crew_name_temp1 = title_akas_basic_crew_name[['titleId','primaryTitle','language','startYear','runtimeMinutes','genres','primaryName']]"
   ]
  },
  {
   "cell_type": "code",
   "execution_count": 79,
   "metadata": {},
   "outputs": [],
   "source": [
    "#Joining title_akas_basic_crew and name_basics\n",
    "title_akas_basic_crew_name_ratings_temp = pd.merge(title_akas_basic_crew_name_temp1,title_ratings, on = 'titleId', how = 'inner')\n",
    "title_akas_basic_crew_name_ratings = title_akas_basic_crew_name_ratings_temp.drop_duplicates()"
   ]
  },
  {
   "cell_type": "code",
   "execution_count": 81,
   "metadata": {},
   "outputs": [],
   "source": [
    "title_akas_basic_crew_name_ratings.to_csv('title_akas_basic_crew_name_ratings.csv', sep=',')"
   ]
  },
  {
   "cell_type": "code",
   "execution_count": 83,
   "metadata": {},
   "outputs": [
    {
     "data": {
      "text/html": [
       "<div>\n",
       "<style scoped>\n",
       "    .dataframe tbody tr th:only-of-type {\n",
       "        vertical-align: middle;\n",
       "    }\n",
       "\n",
       "    .dataframe tbody tr th {\n",
       "        vertical-align: top;\n",
       "    }\n",
       "\n",
       "    .dataframe thead th {\n",
       "        text-align: right;\n",
       "    }\n",
       "</style>\n",
       "<table border=\"1\" class=\"dataframe\">\n",
       "  <thead>\n",
       "    <tr style=\"text-align: right;\">\n",
       "      <th></th>\n",
       "      <th>titleId</th>\n",
       "      <th>primaryTitle</th>\n",
       "      <th>language</th>\n",
       "      <th>startYear</th>\n",
       "      <th>runtimeMinutes</th>\n",
       "      <th>genres</th>\n",
       "      <th>primaryName</th>\n",
       "      <th>averageRating</th>\n",
       "      <th>numVotes</th>\n",
       "    </tr>\n",
       "  </thead>\n",
       "  <tbody>\n",
       "    <tr>\n",
       "      <th>0</th>\n",
       "      <td>tt0253093</td>\n",
       "      <td>Gangavataran</td>\n",
       "      <td>en</td>\n",
       "      <td>2018</td>\n",
       "      <td>134</td>\n",
       "      <td>\\N</td>\n",
       "      <td>NaN</td>\n",
       "      <td>7.7</td>\n",
       "      <td>6</td>\n",
       "    </tr>\n",
       "    <tr>\n",
       "      <th>1</th>\n",
       "      <td>tt0315642</td>\n",
       "      <td>Wazir</td>\n",
       "      <td>\\N</td>\n",
       "      <td>2016</td>\n",
       "      <td>103</td>\n",
       "      <td>Action,Crime,Drama</td>\n",
       "      <td>Bejoy Nambiar</td>\n",
       "      <td>7.1</td>\n",
       "      <td>15148</td>\n",
       "    </tr>\n",
       "    <tr>\n",
       "      <th>2</th>\n",
       "      <td>tt0315642</td>\n",
       "      <td>Wazir</td>\n",
       "      <td>en</td>\n",
       "      <td>2016</td>\n",
       "      <td>103</td>\n",
       "      <td>Action,Crime,Drama</td>\n",
       "      <td>Bejoy Nambiar</td>\n",
       "      <td>7.1</td>\n",
       "      <td>15148</td>\n",
       "    </tr>\n",
       "    <tr>\n",
       "      <th>3</th>\n",
       "      <td>tt0328810</td>\n",
       "      <td>My Land</td>\n",
       "      <td>\\N</td>\n",
       "      <td>2018</td>\n",
       "      <td>102</td>\n",
       "      <td>Drama,Family</td>\n",
       "      <td>Mrinal Sen</td>\n",
       "      <td>8.0</td>\n",
       "      <td>55</td>\n",
       "    </tr>\n",
       "    <tr>\n",
       "      <th>4</th>\n",
       "      <td>tt0364201</td>\n",
       "      <td>Aman Ke Farishtey</td>\n",
       "      <td>\\N</td>\n",
       "      <td>2016</td>\n",
       "      <td>137</td>\n",
       "      <td>Action</td>\n",
       "      <td>Kader Kashmiri</td>\n",
       "      <td>6.8</td>\n",
       "      <td>15</td>\n",
       "    </tr>\n",
       "  </tbody>\n",
       "</table>\n",
       "</div>"
      ],
      "text/plain": [
       "     titleId       primaryTitle language startYear runtimeMinutes  \\\n",
       "0  tt0253093       Gangavataran       en      2018            134   \n",
       "1  tt0315642              Wazir       \\N      2016            103   \n",
       "2  tt0315642              Wazir       en      2016            103   \n",
       "3  tt0328810            My Land       \\N      2018            102   \n",
       "4  tt0364201  Aman Ke Farishtey       \\N      2016            137   \n",
       "\n",
       "               genres     primaryName  averageRating  numVotes  \n",
       "0                  \\N             NaN            7.7         6  \n",
       "1  Action,Crime,Drama   Bejoy Nambiar            7.1     15148  \n",
       "2  Action,Crime,Drama   Bejoy Nambiar            7.1     15148  \n",
       "3        Drama,Family      Mrinal Sen            8.0        55  \n",
       "4              Action  Kader Kashmiri            6.8        15  "
      ]
     },
     "execution_count": 83,
     "metadata": {},
     "output_type": "execute_result"
    }
   ],
   "source": [
    "#Final dataset - title_akas_basic_crew_name_ratings\n",
    "title_akas_basic_crew_name_ratings.head(5)"
   ]
  },
  {
   "cell_type": "code",
   "execution_count": null,
   "metadata": {},
   "outputs": [],
   "source": []
  }
 ],
 "metadata": {
  "kernelspec": {
   "display_name": "Python 3",
   "language": "python",
   "name": "python3"
  },
  "language_info": {
   "codemirror_mode": {
    "name": "ipython",
    "version": 3
   },
   "file_extension": ".py",
   "mimetype": "text/x-python",
   "name": "python",
   "nbconvert_exporter": "python",
   "pygments_lexer": "ipython3",
   "version": "3.6.5"
  }
 },
 "nbformat": 4,
 "nbformat_minor": 2
}
